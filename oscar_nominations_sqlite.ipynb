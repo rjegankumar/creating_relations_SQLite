{
 "cells": [
  {
   "cell_type": "markdown",
   "metadata": {},
   "source": [
    "# Creating Relations in SQLite using Oscar nominations dataset"
   ]
  },
  {
   "cell_type": "code",
   "execution_count": 44,
   "metadata": {
    "collapsed": true
   },
   "outputs": [],
   "source": [
    "import sqlite3"
   ]
  },
  {
   "cell_type": "code",
   "execution_count": 45,
   "metadata": {
    "collapsed": true
   },
   "outputs": [],
   "source": [
    "conn = sqlite3.connect(\"nominations.db\")"
   ]
  },
  {
   "cell_type": "code",
   "execution_count": 46,
   "metadata": {
    "collapsed": true
   },
   "outputs": [],
   "source": [
    "def query(s):\n",
    "    result = conn.execute(s).fetchall()\n",
    "    for item in result:\n",
    "        print(item)\n",
    "    return"
   ]
  },
  {
   "cell_type": "code",
   "execution_count": 47,
   "metadata": {
    "collapsed": false
   },
   "outputs": [
    {
     "name": "stdout",
     "output_type": "stream",
     "text": [
      "(0, 'Year', 'INTEGER', 0, None, 0)\n",
      "(1, 'Category', 'TEXT', 0, None, 0)\n",
      "(2, 'Nominee', 'TEXT', 0, None, 0)\n",
      "(3, 'Won', 'INTEGER', 0, None, 0)\n",
      "(4, 'Movie', 'TEXT', 0, None, 0)\n",
      "(5, 'Character', 'TEXT', 0, None, 0)\n"
     ]
    }
   ],
   "source": [
    "query(\"PRAGMA table_info(nominations);\")"
   ]
  },
  {
   "cell_type": "code",
   "execution_count": 48,
   "metadata": {
    "collapsed": false
   },
   "outputs": [
    {
     "name": "stdout",
     "output_type": "stream",
     "text": [
      "(2010, 'Actor -- Leading Role', 'Javier Bardem', 0, 'Biutiful', 'Uxbal')\n",
      "(2010, 'Actor -- Leading Role', 'Jeff Bridges', 0, 'True Grit', 'Rooster Cogburn')\n",
      "(2010, 'Actor -- Leading Role', 'Jesse Eisenberg', 0, 'The Social Network', 'Mark Zuckerberg')\n",
      "(2010, 'Actor -- Leading Role', 'Colin Firth', 1, \"The King's Speech\", 'King George VI')\n",
      "(2010, 'Actor -- Leading Role', 'James Franco', 0, '127 Hours', 'Aron Ralston')\n",
      "(2010, 'Actor -- Supporting Role', 'Christian Bale', 1, 'The Fighter', 'Dicky Eklund')\n",
      "(2010, 'Actor -- Supporting Role', 'John Hawkes', 0, \"Winter's Bone\", 'Teardrop')\n",
      "(2010, 'Actor -- Supporting Role', 'Jeremy Renner', 0, 'The Town', 'James Coughlin')\n",
      "(2010, 'Actor -- Supporting Role', 'Mark Ruffalo', 0, 'The Kids Are All Right', 'Paul')\n",
      "(2010, 'Actor -- Supporting Role', 'Geoffrey Rush', 0, \"The King's Speech\", 'Lionel Logue')\n"
     ]
    }
   ],
   "source": [
    "query(\"SELECT * FROM nominations LIMIT 10;\")"
   ]
  },
  {
   "cell_type": "code",
   "execution_count": 60,
   "metadata": {
    "collapsed": false
   },
   "outputs": [
    {
     "name": "stdout",
     "output_type": "stream",
     "text": [
      "(0, 'id', 'integer', 0, None, 1)\n",
      "(1, 'Year', 'ineger', 0, None, 0)\n",
      "(2, 'Host', 'text', 0, None, 0)\n"
     ]
    }
   ],
   "source": [
    "years_hosts = [(2010, \"Steve Martin\"),\n",
    "               (2009, \"Hugh Jackman\"),\n",
    "               (2008, \"Jon Stewart\"),\n",
    "               (2007, \"Ellen DeGeneres\"),\n",
    "               (2006, \"Jon Stewart\"),\n",
    "               (2005, \"Chris Rock\"),\n",
    "               (2004, \"Billy Crystal\"),\n",
    "               (2003, \"Steve Martin\"),\n",
    "               (2002, \"Whoopi Goldberg\"),\n",
    "               (2001, \"Steve Martin\"),\n",
    "               (2000, \"Billy Crystal\"),\n",
    "            ]\n",
    "\n",
    "conn.execute(\"CREATE TABLE ceremonies(id integer PRIMARY KEY, Year ineger, Host text);\")\n",
    "conn.executemany(\"INSERT INTO ceremonies (Year, Host) VALUES (?, ?);\", years_hosts)\n",
    "query(\"PRAGMA table_info(ceremonies);\")\n"
   ]
  },
  {
   "cell_type": "code",
   "execution_count": 61,
   "metadata": {
    "collapsed": false
   },
   "outputs": [
    {
     "name": "stdout",
     "output_type": "stream",
     "text": [
      "(1, 2010, 'Steve Martin')\n",
      "(2, 2009, 'Hugh Jackman')\n",
      "(3, 2008, 'Jon Stewart')\n",
      "(4, 2007, 'Ellen DeGeneres')\n",
      "(5, 2006, 'Jon Stewart')\n",
      "(6, 2005, 'Chris Rock')\n",
      "(7, 2004, 'Billy Crystal')\n",
      "(8, 2003, 'Steve Martin')\n",
      "(9, 2002, 'Whoopi Goldberg')\n",
      "(10, 2001, 'Steve Martin')\n"
     ]
    }
   ],
   "source": [
    "query(\"SELECT * FROM ceremonies LIMIT 10;\")"
   ]
  },
  {
   "cell_type": "code",
   "execution_count": 62,
   "metadata": {
    "collapsed": false
   },
   "outputs": [
    {
     "data": {
      "text/plain": [
       "<sqlite3.Cursor at 0x1048a3110>"
      ]
     },
     "execution_count": 62,
     "metadata": {},
     "output_type": "execute_result"
    }
   ],
   "source": [
    "conn.execute('PRAGMA foreign_keys = ON;')"
   ]
  },
  {
   "cell_type": "code",
   "execution_count": 64,
   "metadata": {
    "collapsed": false
   },
   "outputs": [
    {
     "data": {
      "text/plain": [
       "<sqlite3.Cursor at 0x1048a3180>"
      ]
     },
     "execution_count": 64,
     "metadata": {},
     "output_type": "execute_result"
    }
   ],
   "source": [
    "conn.execute('CREATE TABLE nominations_two(id integer PRIMARY KEY, category text, nominee text, movie text,\\\n",
    "character text, won integer, ceremony_id integer, FOREIGN KEY(ceremony_id) REFERENCES ceremonies(id));')"
   ]
  },
  {
   "cell_type": "code",
   "execution_count": 65,
   "metadata": {
    "collapsed": true
   },
   "outputs": [],
   "source": [
    "joined_nominations = conn.execute(\"SELECT nominations.category, nominations.nominee, nominations.movie,\\\n",
    "nominations.character, nominations.won, ceremonies.id FROM nominations INNER JOIN ceremonies ON \\\n",
    "nominations.year == ceremonies.year;\")"
   ]
  },
  {
   "cell_type": "code",
   "execution_count": 69,
   "metadata": {
    "collapsed": false
   },
   "outputs": [
    {
     "data": {
      "text/plain": [
       "<sqlite3.Cursor at 0x1048a3490>"
      ]
     },
     "execution_count": 69,
     "metadata": {},
     "output_type": "execute_result"
    }
   ],
   "source": [
    "conn.executemany(\"INSERT INTO nominations_two (category, nominee, movie, character, won, \\\n",
    "ceremony_id) VALUES (?,?,?,?,?,?);\", joined_nominations)"
   ]
  },
  {
   "cell_type": "code",
   "execution_count": 72,
   "metadata": {
    "collapsed": false
   },
   "outputs": [
    {
     "name": "stdout",
     "output_type": "stream",
     "text": [
      "(1, 'Actor -- Leading Role', 'Javier Bardem', 'Biutiful', 'Uxbal', 0, 1)\n",
      "(2, 'Actor -- Leading Role', 'Jeff Bridges', 'True Grit', 'Rooster Cogburn', 0, 1)\n",
      "(3, 'Actor -- Leading Role', 'Jesse Eisenberg', 'The Social Network', 'Mark Zuckerberg', 0, 1)\n",
      "(4, 'Actor -- Leading Role', 'Colin Firth', \"The King's Speech\", 'King George VI', 1, 1)\n",
      "(5, 'Actor -- Leading Role', 'James Franco', '127 Hours', 'Aron Ralston', 0, 1)\n"
     ]
    }
   ],
   "source": [
    "query(\"SELECT * FROM nominations_two LIMIT 5;\")"
   ]
  },
  {
   "cell_type": "code",
   "execution_count": 74,
   "metadata": {
    "collapsed": false
   },
   "outputs": [
    {
     "data": {
      "text/plain": [
       "<sqlite3.Cursor at 0x1048a32d0>"
      ]
     },
     "execution_count": 74,
     "metadata": {},
     "output_type": "execute_result"
    }
   ],
   "source": [
    "conn.execute(\"DROP TABLE nominations;\")"
   ]
  },
  {
   "cell_type": "code",
   "execution_count": 75,
   "metadata": {
    "collapsed": false
   },
   "outputs": [
    {
     "data": {
      "text/plain": [
       "<sqlite3.Cursor at 0x1048a30a0>"
      ]
     },
     "execution_count": 75,
     "metadata": {},
     "output_type": "execute_result"
    }
   ],
   "source": [
    "conn.execute(\"ALTER TABLE nominations_two RENAME TO nominations;\")"
   ]
  },
  {
   "cell_type": "code",
   "execution_count": 80,
   "metadata": {
    "collapsed": false
   },
   "outputs": [
    {
     "data": {
      "text/plain": [
       "<sqlite3.Cursor at 0x1048a38f0>"
      ]
     },
     "execution_count": 80,
     "metadata": {},
     "output_type": "execute_result"
    }
   ],
   "source": [
    "conn.execute(\"CREATE TABLE movies(id integer PRIMARY KEY, movie text);\")"
   ]
  },
  {
   "cell_type": "code",
   "execution_count": 81,
   "metadata": {
    "collapsed": false
   },
   "outputs": [
    {
     "data": {
      "text/plain": [
       "<sqlite3.Cursor at 0x1048a39d0>"
      ]
     },
     "execution_count": 81,
     "metadata": {},
     "output_type": "execute_result"
    }
   ],
   "source": [
    "conn.execute(\"CREATE TABLE actors(id integer PRIMARY KEY, actor text);\")"
   ]
  },
  {
   "cell_type": "code",
   "execution_count": 91,
   "metadata": {
    "collapsed": false
   },
   "outputs": [
    {
     "data": {
      "text/plain": [
       "<sqlite3.Cursor at 0x1048a3c70>"
      ]
     },
     "execution_count": 91,
     "metadata": {},
     "output_type": "execute_result"
    }
   ],
   "source": [
    "conn.execute(\"CREATE TABLE movies_actors(id integer PRIMARY KEY, movie_id integer REFERENCES movies(id), \\\n",
    "actor_id integer REFERENCES actors(id));\")"
   ]
  },
  {
   "cell_type": "code",
   "execution_count": 86,
   "metadata": {
    "collapsed": false
   },
   "outputs": [
    {
     "name": "stdout",
     "output_type": "stream",
     "text": [
      "(0, 'id', 'integer', 0, None, 1)\n",
      "(1, 'movie', 'text', 0, None, 0)\n",
      "(1, 'Biutiful')\n",
      "(2, 'True Grit')\n",
      "(3, 'The Social Network')\n",
      "(4, \"The King's Speech\")\n",
      "(5, '127 Hours')\n"
     ]
    }
   ],
   "source": [
    "conn.execute(\"INSERT INTO movies (movie) SELECT DISTINCT movie FROM nominations;\")\n",
    "query(\"PRAGMA table_info(movies);\")\n",
    "query(\"SELECT * FROM movies LIMIT 5;\")"
   ]
  },
  {
   "cell_type": "code",
   "execution_count": 87,
   "metadata": {
    "collapsed": false
   },
   "outputs": [
    {
     "name": "stdout",
     "output_type": "stream",
     "text": [
      "(0, 'id', 'integer', 0, None, 1)\n",
      "(1, 'actor', 'text', 0, None, 0)\n",
      "(1, 'Javier Bardem')\n",
      "(2, 'Jeff Bridges')\n",
      "(3, 'Jesse Eisenberg')\n",
      "(4, 'Colin Firth')\n",
      "(5, 'James Franco')\n"
     ]
    }
   ],
   "source": [
    "conn.execute(\"INSERT INTO actors (actor) SELECT DISTINCT nominee FROM nominations;\")\n",
    "query(\"PRAGMA table_info(actors);\")\n",
    "query(\"SELECT * FROM actors LIMIT 5;\")"
   ]
  },
  {
   "cell_type": "code",
   "execution_count": 92,
   "metadata": {
    "collapsed": false
   },
   "outputs": [
    {
     "name": "stdout",
     "output_type": "stream",
     "text": [
      "(0, 'id', 'integer', 0, None, 1)\n",
      "(1, 'movie_id', 'integer', 0, None, 0)\n",
      "(2, 'actor_id', 'integer', 0, None, 0)\n",
      "(1, 1, 1)\n",
      "(2, 2, 2)\n",
      "(3, 3, 3)\n",
      "(4, 4, 4)\n",
      "(5, 5, 5)\n"
     ]
    }
   ],
   "source": [
    "movie_actor_pairs = conn.execute(\"SELECT movie, nominee FROM nominations;\").fetchall()\n",
    "\n",
    "conn.executemany(\"INSERT INTO movies_actors (movie_id, actor_id) VALUES ((SELECT id FROM movies WHERE movie == ?), \\\n",
    "(SELECT id FROM actors WHERE actor == ?));\", movie_actor_pairs)\n",
    "\n",
    "query(\"PRAGMA table_info(movies_actors);\")\n",
    "query(\"SELECT * FROM movies_actors LIMIT 5;\")"
   ]
  },
  {
   "cell_type": "code",
   "execution_count": 96,
   "metadata": {
    "collapsed": false
   },
   "outputs": [
    {
     "name": "stdout",
     "output_type": "stream",
     "text": [
      "('Javier Bardem', 'Biutiful')\n",
      "('Jeff Bridges', 'Biutiful')\n",
      "('Jesse Eisenberg', 'Biutiful')\n",
      "('Colin Firth', 'Biutiful')\n",
      "('James Franco', 'Biutiful')\n"
     ]
    }
   ],
   "source": [
    "query(\"SELECT actor, movie FROM movies, actors LIMIT 5;\")"
   ]
  },
  {
   "cell_type": "markdown",
   "metadata": {},
   "source": [
    "## Potential next steps"
   ]
  },
  {
   "cell_type": "markdown",
   "metadata": {},
   "source": [
    "* What other datasets can we add to the database?\n",
    "* Based on what you know, brainstorm how you would populate the join table and the linked tables using data from nominations."
   ]
  }
 ],
 "metadata": {
  "kernelspec": {
   "display_name": "Python [default]",
   "language": "python",
   "name": "python3"
  },
  "language_info": {
   "codemirror_mode": {
    "name": "ipython",
    "version": 3
   },
   "file_extension": ".py",
   "mimetype": "text/x-python",
   "name": "python",
   "nbconvert_exporter": "python",
   "pygments_lexer": "ipython3",
   "version": "3.5.2"
  }
 },
 "nbformat": 4,
 "nbformat_minor": 0
}
